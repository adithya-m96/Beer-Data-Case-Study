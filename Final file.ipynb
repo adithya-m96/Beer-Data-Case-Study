{
 "cells": [
  {
   "cell_type": "markdown",
   "metadata": {},
   "source": [
    "#### Importing the Libraries"
   ]
  },
  {
   "cell_type": "code",
   "execution_count": 89,
   "metadata": {},
   "outputs": [],
   "source": [
    "import pandas as pd\n",
    "import numpy as np\n",
    "import matplotlib.pyplot as plt\n",
    "import seaborn as sns\n",
    "pd.set_option('max_columns',100)\n",
    "import warnings\n",
    "warnings.filterwarnings('ignore')"
   ]
  },
  {
   "cell_type": "markdown",
   "metadata": {},
   "source": [
    "#### Importing the Dataset"
   ]
  },
  {
   "cell_type": "code",
   "execution_count": 90,
   "metadata": {},
   "outputs": [
    {
     "data": {
      "text/html": [
       "<div>\n",
       "<style scoped>\n",
       "    .dataframe tbody tr th:only-of-type {\n",
       "        vertical-align: middle;\n",
       "    }\n",
       "\n",
       "    .dataframe tbody tr th {\n",
       "        vertical-align: top;\n",
       "    }\n",
       "\n",
       "    .dataframe thead th {\n",
       "        text-align: right;\n",
       "    }\n",
       "</style>\n",
       "<table border=\"1\" class=\"dataframe\">\n",
       "  <thead>\n",
       "    <tr style=\"text-align: right;\">\n",
       "      <th></th>\n",
       "      <th>index</th>\n",
       "      <th>beer/ABV</th>\n",
       "      <th>beer/beerId</th>\n",
       "      <th>beer/brewerId</th>\n",
       "      <th>beer/name</th>\n",
       "      <th>beer/style</th>\n",
       "      <th>review/appearance</th>\n",
       "      <th>review/aroma</th>\n",
       "      <th>review/overall</th>\n",
       "      <th>review/palate</th>\n",
       "      <th>review/taste</th>\n",
       "      <th>review/text</th>\n",
       "      <th>review/timeStruct</th>\n",
       "      <th>review/timeUnix</th>\n",
       "      <th>user/ageInSeconds</th>\n",
       "      <th>user/birthdayRaw</th>\n",
       "      <th>user/birthdayUnix</th>\n",
       "      <th>user/gender</th>\n",
       "      <th>user/profileName</th>\n",
       "    </tr>\n",
       "  </thead>\n",
       "  <tbody>\n",
       "    <tr>\n",
       "      <th>0</th>\n",
       "      <td>40163</td>\n",
       "      <td>5.0</td>\n",
       "      <td>46634</td>\n",
       "      <td>14338</td>\n",
       "      <td>Chiostro</td>\n",
       "      <td>Herbed / Spiced Beer</td>\n",
       "      <td>4.0</td>\n",
       "      <td>4.0</td>\n",
       "      <td>4.0</td>\n",
       "      <td>4.0</td>\n",
       "      <td>4.0</td>\n",
       "      <td>Pours a clouded gold with a thin white head. N...</td>\n",
       "      <td>{'min': 38, 'hour': 3, 'mday': 16, 'sec': 10, ...</td>\n",
       "      <td>1229398690</td>\n",
       "      <td>NaN</td>\n",
       "      <td>NaN</td>\n",
       "      <td>NaN</td>\n",
       "      <td>NaN</td>\n",
       "      <td>RblWthACoz</td>\n",
       "    </tr>\n",
       "    <tr>\n",
       "      <th>1</th>\n",
       "      <td>8135</td>\n",
       "      <td>11.0</td>\n",
       "      <td>3003</td>\n",
       "      <td>395</td>\n",
       "      <td>Bearded Pat's Barleywine</td>\n",
       "      <td>American Barleywine</td>\n",
       "      <td>4.0</td>\n",
       "      <td>3.5</td>\n",
       "      <td>3.5</td>\n",
       "      <td>3.5</td>\n",
       "      <td>3.0</td>\n",
       "      <td>12oz bottle into 8oz snifter.\\t\\tDeep ruby red...</td>\n",
       "      <td>{'min': 38, 'hour': 23, 'mday': 8, 'sec': 58, ...</td>\n",
       "      <td>1218238738</td>\n",
       "      <td>NaN</td>\n",
       "      <td>NaN</td>\n",
       "      <td>NaN</td>\n",
       "      <td>NaN</td>\n",
       "      <td>BeerSox</td>\n",
       "    </tr>\n",
       "    <tr>\n",
       "      <th>2</th>\n",
       "      <td>10529</td>\n",
       "      <td>4.7</td>\n",
       "      <td>961</td>\n",
       "      <td>365</td>\n",
       "      <td>Naughty Nellie's Ale</td>\n",
       "      <td>American Pale Ale (APA)</td>\n",
       "      <td>3.5</td>\n",
       "      <td>4.0</td>\n",
       "      <td>3.5</td>\n",
       "      <td>3.5</td>\n",
       "      <td>3.5</td>\n",
       "      <td>First enjoyed at the brewpub about 2 years ago...</td>\n",
       "      <td>{'min': 7, 'hour': 18, 'mday': 26, 'sec': 2, '...</td>\n",
       "      <td>1101492422</td>\n",
       "      <td>NaN</td>\n",
       "      <td>NaN</td>\n",
       "      <td>NaN</td>\n",
       "      <td>Male</td>\n",
       "      <td>mschofield</td>\n",
       "    </tr>\n",
       "    <tr>\n",
       "      <th>3</th>\n",
       "      <td>44610</td>\n",
       "      <td>4.4</td>\n",
       "      <td>429</td>\n",
       "      <td>1</td>\n",
       "      <td>Pilsner Urquell</td>\n",
       "      <td>Czech Pilsener</td>\n",
       "      <td>3.0</td>\n",
       "      <td>3.0</td>\n",
       "      <td>2.5</td>\n",
       "      <td>3.0</td>\n",
       "      <td>3.0</td>\n",
       "      <td>First thing I noticed after pouring from green...</td>\n",
       "      <td>{'min': 7, 'hour': 1, 'mday': 20, 'sec': 5, 'y...</td>\n",
       "      <td>1308532025</td>\n",
       "      <td>1.209827e+09</td>\n",
       "      <td>Aug 10, 1976</td>\n",
       "      <td>208508400.0</td>\n",
       "      <td>Male</td>\n",
       "      <td>molegar76</td>\n",
       "    </tr>\n",
       "    <tr>\n",
       "      <th>4</th>\n",
       "      <td>37062</td>\n",
       "      <td>4.4</td>\n",
       "      <td>4904</td>\n",
       "      <td>1417</td>\n",
       "      <td>Black Sheep Ale (Special)</td>\n",
       "      <td>English Pale Ale</td>\n",
       "      <td>4.0</td>\n",
       "      <td>3.0</td>\n",
       "      <td>3.0</td>\n",
       "      <td>3.5</td>\n",
       "      <td>2.5</td>\n",
       "      <td>A: pours an amber with a one finger head but o...</td>\n",
       "      <td>{'min': 51, 'hour': 6, 'mday': 12, 'sec': 48, ...</td>\n",
       "      <td>1299912708</td>\n",
       "      <td>NaN</td>\n",
       "      <td>NaN</td>\n",
       "      <td>NaN</td>\n",
       "      <td>NaN</td>\n",
       "      <td>Brewbro000</td>\n",
       "    </tr>\n",
       "  </tbody>\n",
       "</table>\n",
       "</div>"
      ],
      "text/plain": [
       "   index  beer/ABV  beer/beerId  beer/brewerId                  beer/name  \\\n",
       "0  40163       5.0        46634          14338                   Chiostro   \n",
       "1   8135      11.0         3003            395   Bearded Pat's Barleywine   \n",
       "2  10529       4.7          961            365       Naughty Nellie's Ale   \n",
       "3  44610       4.4          429              1            Pilsner Urquell   \n",
       "4  37062       4.4         4904           1417  Black Sheep Ale (Special)   \n",
       "\n",
       "                beer/style  review/appearance  review/aroma  review/overall  \\\n",
       "0     Herbed / Spiced Beer                4.0           4.0             4.0   \n",
       "1      American Barleywine                4.0           3.5             3.5   \n",
       "2  American Pale Ale (APA)                3.5           4.0             3.5   \n",
       "3           Czech Pilsener                3.0           3.0             2.5   \n",
       "4         English Pale Ale                4.0           3.0             3.0   \n",
       "\n",
       "   review/palate  review/taste  \\\n",
       "0            4.0           4.0   \n",
       "1            3.5           3.0   \n",
       "2            3.5           3.5   \n",
       "3            3.0           3.0   \n",
       "4            3.5           2.5   \n",
       "\n",
       "                                         review/text  \\\n",
       "0  Pours a clouded gold with a thin white head. N...   \n",
       "1  12oz bottle into 8oz snifter.\\t\\tDeep ruby red...   \n",
       "2  First enjoyed at the brewpub about 2 years ago...   \n",
       "3  First thing I noticed after pouring from green...   \n",
       "4  A: pours an amber with a one finger head but o...   \n",
       "\n",
       "                                   review/timeStruct  review/timeUnix  \\\n",
       "0  {'min': 38, 'hour': 3, 'mday': 16, 'sec': 10, ...       1229398690   \n",
       "1  {'min': 38, 'hour': 23, 'mday': 8, 'sec': 58, ...       1218238738   \n",
       "2  {'min': 7, 'hour': 18, 'mday': 26, 'sec': 2, '...       1101492422   \n",
       "3  {'min': 7, 'hour': 1, 'mday': 20, 'sec': 5, 'y...       1308532025   \n",
       "4  {'min': 51, 'hour': 6, 'mday': 12, 'sec': 48, ...       1299912708   \n",
       "\n",
       "   user/ageInSeconds user/birthdayRaw  user/birthdayUnix user/gender  \\\n",
       "0                NaN              NaN                NaN         NaN   \n",
       "1                NaN              NaN                NaN         NaN   \n",
       "2                NaN              NaN                NaN        Male   \n",
       "3       1.209827e+09     Aug 10, 1976        208508400.0        Male   \n",
       "4                NaN              NaN                NaN         NaN   \n",
       "\n",
       "  user/profileName  \n",
       "0       RblWthACoz  \n",
       "1          BeerSox  \n",
       "2       mschofield  \n",
       "3        molegar76  \n",
       "4       Brewbro000  "
      ]
     },
     "execution_count": 90,
     "metadata": {},
     "output_type": "execute_result"
    }
   ],
   "source": [
    "df = pd.read_csv('train.csv')\n",
    "df.head()"
   ]
  },
  {
   "cell_type": "code",
   "execution_count": 91,
   "metadata": {},
   "outputs": [
    {
     "data": {
      "text/plain": [
       "(37500, 19)"
      ]
     },
     "execution_count": 91,
     "metadata": {},
     "output_type": "execute_result"
    }
   ],
   "source": [
    "df.shape"
   ]
  },
  {
   "cell_type": "code",
   "execution_count": 92,
   "metadata": {},
   "outputs": [
    {
     "data": {
      "text/plain": [
       "index                    0\n",
       "beer/ABV                 0\n",
       "beer/beerId              0\n",
       "beer/brewerId            0\n",
       "beer/name                0\n",
       "beer/style               0\n",
       "review/appearance        0\n",
       "review/aroma             0\n",
       "review/overall           0\n",
       "review/palate            0\n",
       "review/taste             0\n",
       "review/text             10\n",
       "review/timeStruct        0\n",
       "review/timeUnix          0\n",
       "user/ageInSeconds    29644\n",
       "user/birthdayRaw     29644\n",
       "user/birthdayUnix    29644\n",
       "user/gender          22186\n",
       "user/profileName         5\n",
       "dtype: int64"
      ]
     },
     "execution_count": 92,
     "metadata": {},
     "output_type": "execute_result"
    }
   ],
   "source": [
    "df.isnull().sum()"
   ]
  },
  {
   "cell_type": "code",
   "execution_count": 93,
   "metadata": {},
   "outputs": [
    {
     "name": "stdout",
     "output_type": "stream",
     "text": [
      "<class 'pandas.core.frame.DataFrame'>\n",
      "RangeIndex: 37500 entries, 0 to 37499\n",
      "Data columns (total 19 columns):\n",
      " #   Column             Non-Null Count  Dtype  \n",
      "---  ------             --------------  -----  \n",
      " 0   index              37500 non-null  int64  \n",
      " 1   beer/ABV           37500 non-null  float64\n",
      " 2   beer/beerId        37500 non-null  int64  \n",
      " 3   beer/brewerId      37500 non-null  int64  \n",
      " 4   beer/name          37500 non-null  object \n",
      " 5   beer/style         37500 non-null  object \n",
      " 6   review/appearance  37500 non-null  float64\n",
      " 7   review/aroma       37500 non-null  float64\n",
      " 8   review/overall     37500 non-null  float64\n",
      " 9   review/palate      37500 non-null  float64\n",
      " 10  review/taste       37500 non-null  float64\n",
      " 11  review/text        37490 non-null  object \n",
      " 12  review/timeStruct  37500 non-null  object \n",
      " 13  review/timeUnix    37500 non-null  int64  \n",
      " 14  user/ageInSeconds  7856 non-null   float64\n",
      " 15  user/birthdayRaw   7856 non-null   object \n",
      " 16  user/birthdayUnix  7856 non-null   float64\n",
      " 17  user/gender        15314 non-null  object \n",
      " 18  user/profileName   37495 non-null  object \n",
      "dtypes: float64(8), int64(4), object(7)\n",
      "memory usage: 5.4+ MB\n"
     ]
    }
   ],
   "source": [
    "df.info()"
   ]
  },
  {
   "cell_type": "code",
   "execution_count": 94,
   "metadata": {},
   "outputs": [],
   "source": [
    "# # checking the value counts for each individual feature\n",
    "# for i in df.columns:\n",
    "#     print(i, df[i].value_counts())\n",
    "#     print('\\n\\n\\n') "
   ]
  },
  {
   "cell_type": "markdown",
   "metadata": {},
   "source": [
    "#### Data Preprocessing"
   ]
  },
  {
   "cell_type": "markdown",
   "metadata": {},
   "source": [
    "##### Converting review timestruct dictionaries to columns"
   ]
  },
  {
   "cell_type": "code",
   "execution_count": 95,
   "metadata": {},
   "outputs": [
    {
     "data": {
      "text/plain": [
       "{'min': 0, 'hour': 0, 'mday': 22, 'sec': 1, 'year': 2000, 'wday': 4, 'mon': 9, 'isdst': 0, 'yday': 266}       3\n",
       "{'min': 0, 'hour': 0, 'mday': 10, 'sec': 1, 'year': 1999, 'wday': 0, 'mon': 5, 'isdst': 0, 'yday': 130}       3\n",
       "{'min': 0, 'hour': 0, 'mday': 12, 'sec': 1, 'year': 2000, 'wday': 2, 'mon': 4, 'isdst': 0, 'yday': 103}       2\n",
       "{'min': 8, 'hour': 17, 'mday': 9, 'sec': 12, 'year': 2009, 'wday': 4, 'mon': 10, 'isdst': 0, 'yday': 282}     2\n",
       "{'min': 16, 'hour': 22, 'mday': 29, 'sec': 44, 'year': 2009, 'wday': 2, 'mon': 4, 'isdst': 0, 'yday': 119}    2\n",
       "                                                                                                             ..\n",
       "{'min': 45, 'hour': 2, 'mday': 19, 'sec': 17, 'year': 2010, 'wday': 6, 'mon': 9, 'isdst': 0, 'yday': 262}     1\n",
       "{'min': 5, 'hour': 3, 'mday': 24, 'sec': 39, 'year': 2006, 'wday': 2, 'mon': 5, 'isdst': 0, 'yday': 144}      1\n",
       "{'min': 15, 'hour': 21, 'mday': 10, 'sec': 25, 'year': 2010, 'wday': 3, 'mon': 6, 'isdst': 0, 'yday': 161}    1\n",
       "{'min': 11, 'hour': 17, 'mday': 7, 'sec': 52, 'year': 2007, 'wday': 6, 'mon': 10, 'isdst': 0, 'yday': 280}    1\n",
       "{'min': 26, 'hour': 4, 'mday': 26, 'sec': 11, 'year': 2008, 'wday': 2, 'mon': 11, 'isdst': 0, 'yday': 331}    1\n",
       "Name: review/timeStruct, Length: 37490, dtype: int64"
      ]
     },
     "execution_count": 95,
     "metadata": {},
     "output_type": "execute_result"
    }
   ],
   "source": [
    "df['review/timeStruct'].value_counts()"
   ]
  },
  {
   "cell_type": "code",
   "execution_count": 96,
   "metadata": {},
   "outputs": [
    {
     "data": {
      "text/plain": [
       "{'min': 38,\n",
       " 'hour': 3,\n",
       " 'mday': 16,\n",
       " 'sec': 10,\n",
       " 'year': 2008,\n",
       " 'wday': 1,\n",
       " 'mon': 12,\n",
       " 'isdst': 0,\n",
       " 'yday': 351}"
      ]
     },
     "execution_count": 96,
     "metadata": {},
     "output_type": "execute_result"
    }
   ],
   "source": [
    "eval(df.loc[0,'review/timeStruct'])"
   ]
  },
  {
   "cell_type": "code",
   "execution_count": 97,
   "metadata": {},
   "outputs": [],
   "source": [
    "df['review_year'] = [eval(df.loc[i,'review/timeStruct'])['year'] for i in range(len(df))]\n",
    "df['review_month'] = [eval(df.loc[i,'review/timeStruct'])['mon'] for i in range(len(df))]\n",
    "df['review_day'] = [eval(df.loc[i,'review/timeStruct'])['yday'] for i in range(len(df))]"
   ]
  },
  {
   "cell_type": "code",
   "execution_count": 98,
   "metadata": {},
   "outputs": [
    {
     "data": {
      "text/plain": [
       "Index(['index', 'beer/ABV', 'beer/beerId', 'beer/brewerId', 'beer/name',\n",
       "       'beer/style', 'review/appearance', 'review/aroma', 'review/overall',\n",
       "       'review/palate', 'review/taste', 'review/text', 'review/timeStruct',\n",
       "       'review/timeUnix', 'user/ageInSeconds', 'user/birthdayRaw',\n",
       "       'user/birthdayUnix', 'user/gender', 'user/profileName', 'review_year',\n",
       "       'review_month', 'review_day'],\n",
       "      dtype='object')"
      ]
     },
     "execution_count": 98,
     "metadata": {},
     "output_type": "execute_result"
    }
   ],
   "source": [
    "df.columns"
   ]
  },
  {
   "cell_type": "markdown",
   "metadata": {},
   "source": [
    "#### Dropping unique and redundant columns"
   ]
  },
  {
   "cell_type": "code",
   "execution_count": 99,
   "metadata": {},
   "outputs": [],
   "source": [
    "df.drop(['beer/beerId','beer/brewerId','beer/name',\n",
    "       'beer/style','review/text','review/timeStruct',\n",
    "       'review/timeUnix','user/ageInSeconds','user/birthdayUnix','user/profileName',\n",
    "        'user/birthdayRaw','user/gender'],1,inplace = True)"
   ]
  },
  {
   "cell_type": "code",
   "execution_count": 100,
   "metadata": {},
   "outputs": [],
   "source": [
    "# Found age of the user with user/birthdayUnix and imputed the null values.\n",
    "# imputed null values for gender.\n",
    "# Checked how the models works after imputing null values, it didnt perform as good. Since there are many missing data points."
   ]
  },
  {
   "cell_type": "code",
   "execution_count": 101,
   "metadata": {},
   "outputs": [
    {
     "data": {
      "text/html": [
       "<div>\n",
       "<style scoped>\n",
       "    .dataframe tbody tr th:only-of-type {\n",
       "        vertical-align: middle;\n",
       "    }\n",
       "\n",
       "    .dataframe tbody tr th {\n",
       "        vertical-align: top;\n",
       "    }\n",
       "\n",
       "    .dataframe thead th {\n",
       "        text-align: right;\n",
       "    }\n",
       "</style>\n",
       "<table border=\"1\" class=\"dataframe\">\n",
       "  <thead>\n",
       "    <tr style=\"text-align: right;\">\n",
       "      <th></th>\n",
       "      <th>index</th>\n",
       "      <th>beer/ABV</th>\n",
       "      <th>review/appearance</th>\n",
       "      <th>review/aroma</th>\n",
       "      <th>review/overall</th>\n",
       "      <th>review/palate</th>\n",
       "      <th>review/taste</th>\n",
       "      <th>review_year</th>\n",
       "      <th>review_month</th>\n",
       "      <th>review_day</th>\n",
       "    </tr>\n",
       "  </thead>\n",
       "  <tbody>\n",
       "    <tr>\n",
       "      <th>0</th>\n",
       "      <td>40163</td>\n",
       "      <td>5.0</td>\n",
       "      <td>4.0</td>\n",
       "      <td>4.0</td>\n",
       "      <td>4.0</td>\n",
       "      <td>4.0</td>\n",
       "      <td>4.0</td>\n",
       "      <td>2008</td>\n",
       "      <td>12</td>\n",
       "      <td>351</td>\n",
       "    </tr>\n",
       "    <tr>\n",
       "      <th>1</th>\n",
       "      <td>8135</td>\n",
       "      <td>11.0</td>\n",
       "      <td>4.0</td>\n",
       "      <td>3.5</td>\n",
       "      <td>3.5</td>\n",
       "      <td>3.5</td>\n",
       "      <td>3.0</td>\n",
       "      <td>2008</td>\n",
       "      <td>8</td>\n",
       "      <td>221</td>\n",
       "    </tr>\n",
       "    <tr>\n",
       "      <th>2</th>\n",
       "      <td>10529</td>\n",
       "      <td>4.7</td>\n",
       "      <td>3.5</td>\n",
       "      <td>4.0</td>\n",
       "      <td>3.5</td>\n",
       "      <td>3.5</td>\n",
       "      <td>3.5</td>\n",
       "      <td>2004</td>\n",
       "      <td>11</td>\n",
       "      <td>331</td>\n",
       "    </tr>\n",
       "  </tbody>\n",
       "</table>\n",
       "</div>"
      ],
      "text/plain": [
       "   index  beer/ABV  review/appearance  review/aroma  review/overall  \\\n",
       "0  40163       5.0                4.0           4.0             4.0   \n",
       "1   8135      11.0                4.0           3.5             3.5   \n",
       "2  10529       4.7                3.5           4.0             3.5   \n",
       "\n",
       "   review/palate  review/taste  review_year  review_month  review_day  \n",
       "0            4.0           4.0         2008            12         351  \n",
       "1            3.5           3.0         2008             8         221  \n",
       "2            3.5           3.5         2004            11         331  "
      ]
     },
     "execution_count": 101,
     "metadata": {},
     "output_type": "execute_result"
    }
   ],
   "source": [
    "df.head(3)"
   ]
  },
  {
   "cell_type": "code",
   "execution_count": 102,
   "metadata": {},
   "outputs": [],
   "source": [
    "dfs = pd.read_csv('train.csv')"
   ]
  },
  {
   "cell_type": "code",
   "execution_count": 103,
   "metadata": {},
   "outputs": [],
   "source": [
    "rating_1 = dfs[dfs['review/overall'] == 1]\n",
    "rating_2 = dfs[dfs['review/overall'] == 2]\n",
    "rating_3 = dfs[dfs['review/overall'] == 3]\n",
    "rating_4 = dfs[dfs['review/overall'] == 4]\n",
    "rating_5 = dfs[dfs['review/overall'] == 5]"
   ]
  },
  {
   "cell_type": "code",
   "execution_count": 104,
   "metadata": {},
   "outputs": [
    {
     "data": {
      "text/plain": [
       "<matplotlib.axes._subplots.AxesSubplot at 0x1461062cf48>"
      ]
     },
     "execution_count": 104,
     "metadata": {},
     "output_type": "execute_result"
    },
    {
     "data": {
      "image/png": "[encoded data removed]",
      "text/plain": [
       "<Figure size 1080x360 with 2 Axes>"
      ]
     },
     "metadata": {
      "needs_background": "light"
     },
     "output_type": "display_data"
    }
   ],
   "source": [
    "plt.figure(figsize= (15,5))\n",
    "plt.xticks(fontsize = 8)\n",
    "plt.yticks(fontsize=12)\n",
    "plt.subplot(1,2,1)\n",
    "rating_1['beer/name'].value_counts().sort_values(ascending = False).head(10).plot(kind = 'bar')\n",
    "plt.subplot(1,2,2)\n",
    "rating_1['beer/name'].value_counts().sort_values(ascending = True).head(10).plot(kind = 'bar')\n"
   ]
  },
  {
   "cell_type": "code",
   "execution_count": 105,
   "metadata": {},
   "outputs": [
    {
     "data": {
      "text/plain": [
       "<matplotlib.axes._subplots.AxesSubplot at 0x1460ccebe88>"
      ]
     },
     "execution_count": 105,
     "metadata": {},
     "output_type": "execute_result"
    },
    {
     "data": {
      "image/png": "[encoded data removed]",
      "text/plain": [
       "<Figure size 1080x360 with 2 Axes>"
      ]
     },
     "metadata": {
      "needs_background": "light"
     },
     "output_type": "display_data"
    }
   ],
   "source": [
    "plt.figure(figsize= (15,5))\n",
    "plt.xticks(fontsize = 8)\n",
    "plt.yticks(fontsize=12)\n",
    "plt.subplot(1,2,1)\n",
    "rating_2['beer/name'].value_counts().sort_values(ascending = False).head(10).plot(kind = 'bar')\n",
    "plt.subplot(1,2,2)\n",
    "rating_2['beer/name'].value_counts().sort_values(ascending = True).head(10).plot(kind = 'bar')\n"
   ]
  },
  {
   "cell_type": "code",
   "execution_count": 106,
   "metadata": {},
   "outputs": [
    {
     "data": {
      "text/plain": [
       "<matplotlib.axes._subplots.AxesSubplot at 0x14612200a48>"
      ]
     },
     "execution_count": 106,
     "metadata": {},
     "output_type": "execute_result"
    },
    {
     "data": {
      "image/png": "[encoded data removed]",
      "text/plain": [
       "<Figure size 1080x360 with 2 Axes>"
      ]
     },
     "metadata": {
      "needs_background": "light"
     },
     "output_type": "display_data"
    }
   ],
   "source": [
    "plt.figure(figsize= (15,5))\n",
    "plt.xticks(fontsize = 8)\n",
    "plt.yticks(fontsize=12)\n",
    "plt.subplot(1,2,1)\n",
    "rating_3['beer/name'].value_counts().sort_values(ascending = False).head(10).plot(kind = 'bar')\n",
    "plt.subplot(1,2,2)\n",
    "rating_3['beer/name'].value_counts().sort_values(ascending = True).head(10).plot(kind = 'bar')\n"
   ]
  },
  {
   "cell_type": "code",
   "execution_count": 107,
   "metadata": {},
   "outputs": [
    {
     "data": {
      "text/plain": [
       "<matplotlib.axes._subplots.AxesSubplot at 0x1460f68ef08>"
      ]
     },
     "execution_count": 107,
     "metadata": {},
     "output_type": "execute_result"
    },
    {
     "data": {
      "image/png": "[encoded data removed]",
      "text/plain": [
       "<Figure size 1080x360 with 2 Axes>"
      ]
     },
     "metadata": {
      "needs_background": "light"
     },
     "output_type": "display_data"
    }
   ],
   "source": [
    "plt.figure(figsize= (15,5))\n",
    "plt.xticks(fontsize = 8)\n",
    "plt.yticks(fontsize=12)\n",
    "plt.subplot(1,2,1)\n",
    "rating_4['beer/name'].value_counts().sort_values(ascending = False).head(10).plot(kind = 'bar')\n",
    "plt.subplot(1,2,2)\n",
    "rating_4['beer/name'].value_counts().sort_values(ascending = True).head(10).plot(kind = 'bar')\n"
   ]
  },
  {
   "cell_type": "code",
   "execution_count": 134,
   "metadata": {},
   "outputs": [
    {
     "data": {
      "text/plain": [
       "<matplotlib.axes._subplots.AxesSubplot at 0x14634f72308>"
      ]
     },
     "execution_count": 134,
     "metadata": {},
     "output_type": "execute_result"
    },
    {
     "data": {
      "image/png": "[encoded data removed]",
      "text/plain": [
       "<Figure size 1080x360 with 2 Axes>"
      ]
     },
     "metadata": {
      "needs_background": "light"
     },
     "output_type": "display_data"
    }
   ],
   "source": [
    "plt.figure(figsize= (15,5))\n",
    "plt.xticks(fontsize = 8)\n",
    "plt.yticks(fontsize=12)\n",
    "plt.subplot(1,2,1)\n",
    "rating_5['beer/name'].value_counts().sort_values(ascending = False).head(10).plot(kind = 'bar')\n",
    "plt.subplot(1,2,2)\n",
    "rating_5['beer/name'].value_counts().sort_values(ascending = True).head(10).plot(kind = 'bar')\n"
   ]
  },
  {
   "cell_type": "markdown",
   "metadata": {},
   "source": [
    "#### Converting 10 classes into 5 classes"
   ]
  },
  {
   "cell_type": "code",
   "execution_count": 109,
   "metadata": {},
   "outputs": [
    {
     "data": {
      "text/plain": [
       "4.0    13868\n",
       "4.5     8666\n",
       "3.5     6551\n",
       "3.0     3319\n",
       "5.0     2671\n",
       "2.5     1193\n",
       "2.0      807\n",
       "1.5      248\n",
       "1.0      176\n",
       "0.0        1\n",
       "Name: review/overall, dtype: int64"
      ]
     },
     "execution_count": 109,
     "metadata": {},
     "output_type": "execute_result"
    }
   ],
   "source": [
    "df['review/overall'].value_counts()"
   ]
  },
  {
   "cell_type": "code",
   "execution_count": 110,
   "metadata": {},
   "outputs": [],
   "source": [
    "df['review/overall'] = df['review/overall'].apply(np.ceil)"
   ]
  },
  {
   "cell_type": "code",
   "execution_count": 111,
   "metadata": {},
   "outputs": [],
   "source": [
    "df = df[df['review/overall'] != 0.0 ]"
   ]
  },
  {
   "cell_type": "code",
   "execution_count": 112,
   "metadata": {},
   "outputs": [
    {
     "data": {
      "text/plain": [
       "4.0    20419\n",
       "5.0    11337\n",
       "3.0     4512\n",
       "2.0     1055\n",
       "1.0      176\n",
       "Name: review/overall, dtype: int64"
      ]
     },
     "execution_count": 112,
     "metadata": {},
     "output_type": "execute_result"
    }
   ],
   "source": [
    "df['review/overall'].value_counts()"
   ]
  },
  {
   "cell_type": "code",
   "execution_count": 113,
   "metadata": {},
   "outputs": [
    {
     "data": {
      "text/html": [
       "<div>\n",
       "<style scoped>\n",
       "    .dataframe tbody tr th:only-of-type {\n",
       "        vertical-align: middle;\n",
       "    }\n",
       "\n",
       "    .dataframe tbody tr th {\n",
       "        vertical-align: top;\n",
       "    }\n",
       "\n",
       "    .dataframe thead th {\n",
       "        text-align: right;\n",
       "    }\n",
       "</style>\n",
       "<table border=\"1\" class=\"dataframe\">\n",
       "  <thead>\n",
       "    <tr style=\"text-align: right;\">\n",
       "      <th></th>\n",
       "      <th>index</th>\n",
       "      <th>beer/ABV</th>\n",
       "      <th>review/appearance</th>\n",
       "      <th>review/aroma</th>\n",
       "      <th>review/overall</th>\n",
       "      <th>review/palate</th>\n",
       "      <th>review/taste</th>\n",
       "      <th>review_year</th>\n",
       "      <th>review_month</th>\n",
       "      <th>review_day</th>\n",
       "    </tr>\n",
       "  </thead>\n",
       "  <tbody>\n",
       "    <tr>\n",
       "      <th>0</th>\n",
       "      <td>40163</td>\n",
       "      <td>5.0</td>\n",
       "      <td>4.0</td>\n",
       "      <td>4.0</td>\n",
       "      <td>4.0</td>\n",
       "      <td>4.0</td>\n",
       "      <td>4.0</td>\n",
       "      <td>2008</td>\n",
       "      <td>12</td>\n",
       "      <td>351</td>\n",
       "    </tr>\n",
       "    <tr>\n",
       "      <th>1</th>\n",
       "      <td>8135</td>\n",
       "      <td>11.0</td>\n",
       "      <td>4.0</td>\n",
       "      <td>3.5</td>\n",
       "      <td>4.0</td>\n",
       "      <td>3.5</td>\n",
       "      <td>3.0</td>\n",
       "      <td>2008</td>\n",
       "      <td>8</td>\n",
       "      <td>221</td>\n",
       "    </tr>\n",
       "    <tr>\n",
       "      <th>2</th>\n",
       "      <td>10529</td>\n",
       "      <td>4.7</td>\n",
       "      <td>3.5</td>\n",
       "      <td>4.0</td>\n",
       "      <td>4.0</td>\n",
       "      <td>3.5</td>\n",
       "      <td>3.5</td>\n",
       "      <td>2004</td>\n",
       "      <td>11</td>\n",
       "      <td>331</td>\n",
       "    </tr>\n",
       "  </tbody>\n",
       "</table>\n",
       "</div>"
      ],
      "text/plain": [
       "   index  beer/ABV  review/appearance  review/aroma  review/overall  \\\n",
       "0  40163       5.0                4.0           4.0             4.0   \n",
       "1   8135      11.0                4.0           3.5             4.0   \n",
       "2  10529       4.7                3.5           4.0             4.0   \n",
       "\n",
       "   review/palate  review/taste  review_year  review_month  review_day  \n",
       "0            4.0           4.0         2008            12         351  \n",
       "1            3.5           3.0         2008             8         221  \n",
       "2            3.5           3.5         2004            11         331  "
      ]
     },
     "execution_count": 113,
     "metadata": {},
     "output_type": "execute_result"
    }
   ],
   "source": [
    "df.head(3)"
   ]
  },
  {
   "cell_type": "code",
   "execution_count": 114,
   "metadata": {},
   "outputs": [
    {
     "data": {
      "text/plain": [
       "index                0\n",
       "beer/ABV             0\n",
       "review/appearance    0\n",
       "review/aroma         0\n",
       "review/overall       0\n",
       "review/palate        0\n",
       "review/taste         0\n",
       "review_year          0\n",
       "review_month         0\n",
       "review_day           0\n",
       "dtype: int64"
      ]
     },
     "execution_count": 114,
     "metadata": {},
     "output_type": "execute_result"
    }
   ],
   "source": [
    "df.isnull().sum()"
   ]
  },
  {
   "cell_type": "markdown",
   "metadata": {},
   "source": [
    "### Model Building"
   ]
  },
  {
   "cell_type": "markdown",
   "metadata": {},
   "source": [
    "##### Checking whether the classes are imbalanced"
   ]
  },
  {
   "cell_type": "code",
   "execution_count": 115,
   "metadata": {},
   "outputs": [
    {
     "data": {
      "text/plain": [
       "4.0    0.544521\n",
       "5.0    0.302328\n",
       "3.0    0.120323\n",
       "2.0    0.028134\n",
       "1.0    0.004693\n",
       "Name: review/overall, dtype: float64"
      ]
     },
     "execution_count": 115,
     "metadata": {},
     "output_type": "execute_result"
    }
   ],
   "source": [
    "df['review/overall'].value_counts(normalize = True)"
   ]
  },
  {
   "cell_type": "code",
   "execution_count": 116,
   "metadata": {},
   "outputs": [],
   "source": [
    "# As we can see that the classes are imbalanced, we'll first build models without balancing the classes and \n",
    "# then build models after changing the class weights."
   ]
  },
  {
   "cell_type": "code",
   "execution_count": 117,
   "metadata": {},
   "outputs": [],
   "source": [
    "X = df.drop('review/overall',1)\n",
    "y = df['review/overall']"
   ]
  },
  {
   "cell_type": "code",
   "execution_count": 118,
   "metadata": {},
   "outputs": [],
   "source": [
    "# Splitting to train test dataset\n",
    "from sklearn.model_selection import train_test_split\n",
    "X_train, X_test, y_train, y_test = train_test_split(X, y, test_size = 0.3, random_state = 40)"
   ]
  },
  {
   "cell_type": "code",
   "execution_count": 119,
   "metadata": {},
   "outputs": [],
   "source": [
    "from sklearn.metrics import confusion_matrix, accuracy_score, classification_report, roc_auc_score, roc_curve\n",
    "from sklearn.model_selection import train_test_split\n",
    "from sklearn.preprocessing import LabelBinarizer\n",
    "from sklearn.linear_model import LogisticRegression\n",
    "from sklearn.ensemble import RandomForestClassifier"
   ]
  },
  {
   "cell_type": "code",
   "execution_count": 120,
   "metadata": {},
   "outputs": [],
   "source": [
    "def multiclass_roc_auc_score(y_test, y_pred, average=\"macro\"):\n",
    "    lb = LabelBinarizer()\n",
    "    lb.fit(y_test)\n",
    "    y_test = lb.transform(y_test)\n",
    "    y_pred = lb.transform(y_pred)\n",
    "    return roc_auc_score(y_test, y_pred, average=average)\n",
    "\n",
    "def mod_build(algo, X_train, X_test, y_train, y_test):\n",
    "\n",
    "    algo.fit(X_train, y_train)\n",
    "\n",
    "    y_pred = algo.predict(X_test)\n",
    "    y_prob = algo.predict_proba(X_test)\n",
    "\n",
    "    print('Classification Report')\n",
    "    print(classification_report(y_test, y_pred))\n",
    "\n",
    "    print(confusion_matrix(y_test, y_pred))\n",
    "\n",
    "    print('Accuracy Score:', end = ' ')\n",
    "    print(accuracy_score(y_test, y_pred))\n",
    "    \n",
    "    roc_score = multiclass_roc_auc_score(y_test, y_pred)\n",
    "    print('roc auc Score:', end = ' ')\n",
    "    print(roc_score)\n",
    "#     roc_auc_curve(y_test, y_pred)"
   ]
  },
  {
   "cell_type": "code",
   "execution_count": 121,
   "metadata": {},
   "outputs": [
    {
     "name": "stdout",
     "output_type": "stream",
     "text": [
      "Classification Report\n",
      "              precision    recall  f1-score   support\n",
      "\n",
      "         1.0       0.00      0.00      0.00        47\n",
      "         2.0       0.00      0.00      0.00       306\n",
      "         3.0       0.00      0.00      0.00      1320\n",
      "         4.0       0.55      1.00      0.71      6142\n",
      "         5.0       0.00      0.00      0.00      3435\n",
      "\n",
      "    accuracy                           0.55     11250\n",
      "   macro avg       0.11      0.20      0.14     11250\n",
      "weighted avg       0.30      0.55      0.39     11250\n",
      "\n",
      "[[   0    0    0   47    0]\n",
      " [   0    0    0  306    0]\n",
      " [   0    0    0 1320    0]\n",
      " [   0    0    0 6142    0]\n",
      " [   0    0    0 3435    0]]\n",
      "Accuracy Score: 0.5459555555555555\n",
      "roc auc Score: 0.5\n"
     ]
    }
   ],
   "source": [
    "lr = LogisticRegression(multi_class = 'multinomial')\n",
    "mod_build(lr, X_train, X_test, y_train, y_test)"
   ]
  },
  {
   "cell_type": "code",
   "execution_count": 122,
   "metadata": {},
   "outputs": [
    {
     "name": "stdout",
     "output_type": "stream",
     "text": [
      "Classification Report\n",
      "              precision    recall  f1-score   support\n",
      "\n",
      "         1.0       0.50      0.23      0.32        47\n",
      "         2.0       0.57      0.52      0.54       306\n",
      "         3.0       0.61      0.52      0.57      1320\n",
      "         4.0       0.72      0.80      0.76      6142\n",
      "         5.0       0.68      0.60      0.64      3435\n",
      "\n",
      "    accuracy                           0.70     11250\n",
      "   macro avg       0.62      0.54      0.57     11250\n",
      "weighted avg       0.69      0.70      0.69     11250\n",
      "\n",
      "[[  11   28    8    0    0]\n",
      " [  10  159  120   16    1]\n",
      " [   1   81  692  524   22]\n",
      " [   0   10  293 4883  956]\n",
      " [   0    0   14 1345 2076]]\n",
      "Accuracy Score: 0.6952\n",
      "roc auc Score: 0.7127314590736971\n"
     ]
    }
   ],
   "source": [
    "rf = RandomForestClassifier()\n",
    "mod_build(rf, X_train, X_test, y_train, y_test)"
   ]
  },
  {
   "cell_type": "markdown",
   "metadata": {},
   "source": [
    "#### Calculating class weights"
   ]
  },
  {
   "cell_type": "code",
   "execution_count": 123,
   "metadata": {},
   "outputs": [
    {
     "data": {
      "text/plain": [
       "array([42.6125    ,  7.10881517,  1.66218972,  0.36729517,  0.66153303])"
      ]
     },
     "execution_count": 123,
     "metadata": {},
     "output_type": "execute_result"
    }
   ],
   "source": [
    "from sklearn.utils.class_weight import compute_class_weight\n",
    "class_wts = compute_class_weight('balanced', np.unique(df['review/overall']), df['review/overall']) \n",
    "class_wts"
   ]
  },
  {
   "cell_type": "code",
   "execution_count": 124,
   "metadata": {},
   "outputs": [],
   "source": [
    "cl_un = np.unique(df['review/overall'])\n",
    "di = {i:j for j,i in zip(class_wts,cl_un)}"
   ]
  },
  {
   "cell_type": "markdown",
   "metadata": {},
   "source": [
    "#### Logistic Regression with class weights"
   ]
  },
  {
   "cell_type": "code",
   "execution_count": 125,
   "metadata": {},
   "outputs": [
    {
     "name": "stdout",
     "output_type": "stream",
     "text": [
      "Classification Report\n",
      "              precision    recall  f1-score   support\n",
      "\n",
      "         1.0       0.00      0.28      0.01        47\n",
      "         2.0       0.04      0.41      0.08       306\n",
      "         3.0       0.04      0.01      0.02      1320\n",
      "         4.0       0.55      0.08      0.14      6142\n",
      "         5.0       0.31      0.24      0.27      3435\n",
      "\n",
      "    accuracy                           0.13     11250\n",
      "   macro avg       0.19      0.20      0.10     11250\n",
      "weighted avg       0.40      0.13      0.17     11250\n",
      "\n",
      "[[  13   22    0    0   12]\n",
      " [ 105  124    4   17   56]\n",
      " [ 526  416   18   87  273]\n",
      " [2377 1544  246  512 1463]\n",
      " [1415  664  228  310  818]]\n",
      "Accuracy Score: 0.132\n",
      "roc auc Score: 0.5020352458540829\n"
     ]
    }
   ],
   "source": [
    "lr = LogisticRegression(multi_class = 'multinomial', class_weight = di)\n",
    "mod_build(lr, X_train, X_test, y_train, y_test)"
   ]
  },
  {
   "cell_type": "markdown",
   "metadata": {},
   "source": [
    "#### Random forest with class weights"
   ]
  },
  {
   "cell_type": "code",
   "execution_count": 126,
   "metadata": {},
   "outputs": [
    {
     "name": "stdout",
     "output_type": "stream",
     "text": [
      "Classification Report\n",
      "              precision    recall  f1-score   support\n",
      "\n",
      "         1.0       0.57      0.28      0.37        47\n",
      "         2.0       0.59      0.50      0.54       306\n",
      "         3.0       0.62      0.52      0.56      1320\n",
      "         4.0       0.71      0.81      0.76      6142\n",
      "         5.0       0.68      0.59      0.63      3435\n",
      "\n",
      "    accuracy                           0.69     11250\n",
      "   macro avg       0.63      0.54      0.57     11250\n",
      "weighted avg       0.69      0.69      0.69     11250\n",
      "\n",
      "[[  13   26    7    1    0]\n",
      " [  10  153  124   18    1]\n",
      " [   0   73  682  547   18]\n",
      " [   0    9  274 4945  914]\n",
      " [   0    0   11 1414 2010]]\n",
      "Accuracy Score: 0.6936\n",
      "roc auc Score: 0.7123860251246125\n"
     ]
    }
   ],
   "source": [
    "rf = RandomForestClassifier(class_weight=di)\n",
    "mod_build(rf, X_train, X_test, y_train, y_test)"
   ]
  },
  {
   "cell_type": "code",
   "execution_count": 127,
   "metadata": {},
   "outputs": [],
   "source": [
    "# We can see that there is not much of a difference after using class weights. \n",
    "# We have to try other techniques to balance the classes."
   ]
  },
  {
   "cell_type": "markdown",
   "metadata": {},
   "source": [
    "#### Random Over sampling"
   ]
  },
  {
   "cell_type": "code",
   "execution_count": 129,
   "metadata": {},
   "outputs": [
    {
     "name": "stdout",
     "output_type": "stream",
     "text": [
      "Counter({4.0: 20419, 5.0: 11337, 3.0: 4512, 2.0: 1055, 1.0: 176})\n",
      "Counter({4.0: 20419, 3.0: 20419, 5.0: 20419, 2.0: 20419, 1.0: 20419})\n",
      "(71466, 9) (30629, 9) (71466,) (30629,)\n"
     ]
    }
   ],
   "source": [
    "from collections import Counter\n",
    "from imblearn.over_sampling import RandomOverSampler\n",
    "\n",
    "print(Counter(y))\n",
    "# define oversampling strategy\n",
    "strategy = {5:20419, 1:20419, 2:20419, 3:20419,4:20419}      # over sampling strategy\n",
    "oversample = RandomOverSampler(sampling_strategy= strategy)\n",
    "# fit and apply the transform\n",
    "X_over, y_over = oversample.fit_resample(X, y)\n",
    "# summarize class distribution\n",
    "print(Counter(y_over))\n",
    "\n",
    "X_train_over, X_test_over, y_train_over, y_test_over = train_test_split(X_over, y_over, test_size = 0.3, random_state = 40)\n",
    "\n",
    "print(X_train_over.shape, X_test_over.shape, y_train_over.shape, y_test_over.shape)"
   ]
  },
  {
   "cell_type": "code",
   "execution_count": 130,
   "metadata": {},
   "outputs": [
    {
     "name": "stdout",
     "output_type": "stream",
     "text": [
      "Train Accuracy: 1.0\n",
      "Test Accuracy: 0.9105749453132652\n"
     ]
    }
   ],
   "source": [
    "rf = RandomForestClassifier()\n",
    "rf.fit(X_train_over, y_train_over)\n",
    "print(\"Train Accuracy:\",rf.score(X_train_over, y_train_over))\n",
    "print(\"Test Accuracy:\",rf.score(X_test_over, y_test_over))"
   ]
  },
  {
   "cell_type": "code",
   "execution_count": 35,
   "metadata": {},
   "outputs": [
    {
     "name": "stdout",
     "output_type": "stream",
     "text": [
      "Classification Report\n",
      "              precision    recall  f1-score   support\n",
      "\n",
      "         1.0       1.00      1.00      1.00      6162\n",
      "         2.0       0.99      1.00      1.00      6170\n",
      "         3.0       0.91      0.98      0.95      6084\n",
      "         4.0       0.84      0.70      0.76      6103\n",
      "         5.0       0.81      0.87      0.84      6110\n",
      "\n",
      "    accuracy                           0.91     30629\n",
      "   macro avg       0.91      0.91      0.91     30629\n",
      "weighted avg       0.91      0.91      0.91     30629\n",
      "\n",
      "[[6162    0    0    0    0]\n",
      " [   0 6170    0    0    0]\n",
      " [   0   22 5989   72    1]\n",
      " [   0   16  541 4273 1273]\n",
      " [   0    0   22  767 5321]]\n",
      "Accuracy Score: 0.9113911652355611\n",
      "roc auc Score: 0.9444740789918509\n"
     ]
    }
   ],
   "source": [
    "mod_build(rf,X_train_over, X_test_over, y_train_over, y_test_over)"
   ]
  },
  {
   "cell_type": "markdown",
   "metadata": {},
   "source": [
    "#### SMOTE"
   ]
  },
  {
   "cell_type": "code",
   "execution_count": 36,
   "metadata": {},
   "outputs": [
    {
     "name": "stdout",
     "output_type": "stream",
     "text": [
      "(71466, 9) (30629, 9) (71466,) (30629,)\n"
     ]
    }
   ],
   "source": [
    "from imblearn.over_sampling import SMOTE\n",
    "smote = SMOTE() \n",
    "X_sm, y_sm = smote.fit_sample(X,y)\n",
    "X_train_sm, X_test_sm, y_train_sm, y_test_sm = train_test_split(X_sm, y_sm, test_size = 0.3, random_state = 40)\n",
    "\n",
    "print(X_train_sm.shape, X_test_sm.shape, y_train_sm.shape, y_test_sm.shape)"
   ]
  },
  {
   "cell_type": "code",
   "execution_count": 37,
   "metadata": {},
   "outputs": [
    {
     "name": "stdout",
     "output_type": "stream",
     "text": [
      "Train Accuracy: 1.0\n",
      "Test Accuracy: 0.8763263573737308\n"
     ]
    }
   ],
   "source": [
    "rf = RandomForestClassifier()\n",
    "rf.fit(X_train_sm, y_train_sm)\n",
    "print(\"Train Accuracy:\",rf.score(X_train_sm, y_train_sm))\n",
    "print(\"Test Accuracy:\",rf.score(X_test_sm, y_test_sm))"
   ]
  },
  {
   "cell_type": "code",
   "execution_count": 39,
   "metadata": {},
   "outputs": [],
   "source": [
    "# We can see that Random over sampling performs better than SMOTE and the scores have been considerably increased."
   ]
  },
  {
   "cell_type": "code",
   "execution_count": 41,
   "metadata": {},
   "outputs": [
    {
     "name": "stdout",
     "output_type": "stream",
     "text": [
      "Classification Report\n",
      "              precision    recall  f1-score   support\n",
      "\n",
      "         1.0       1.00      1.00      1.00      6162\n",
      "         2.0       0.99      1.00      1.00      6170\n",
      "         3.0       0.91      0.99      0.95      6084\n",
      "         4.0       0.83      0.70      0.76      6103\n",
      "         5.0       0.81      0.87      0.84      6110\n",
      "\n",
      "    accuracy                           0.91     30629\n",
      "   macro avg       0.91      0.91      0.91     30629\n",
      "weighted avg       0.91      0.91      0.91     30629\n",
      "\n",
      "[[6162    0    0    0    0]\n",
      " [   0 6170    0    0    0]\n",
      " [   0   20 5993   71    0]\n",
      " [   0   16  544 4298 1245]\n",
      " [   0    2   17  790 5301]]\n",
      "Accuracy Score: 0.9116850044075876\n",
      "roc auc Score: 0.9446588507714173\n"
     ]
    }
   ],
   "source": [
    "from sklearn.ensemble import AdaBoostClassifier\n",
    "ada_rf = AdaBoostClassifier(base_estimator=RandomForestClassifier(), learning_rate=0.08,\n",
    "        n_estimators=10, random_state=0)\n",
    "mod_build(ada_rf, X_train_over, X_test_over, y_train_over, y_test_over)"
   ]
  },
  {
   "cell_type": "code",
   "execution_count": 42,
   "metadata": {},
   "outputs": [
    {
     "name": "stdout",
     "output_type": "stream",
     "text": [
      "Classification Report\n",
      "              precision    recall  f1-score   support\n",
      "\n",
      "         1.0       0.95      0.99      0.97      6162\n",
      "         2.0       0.85      0.82      0.83      6170\n",
      "         3.0       0.71      0.68      0.69      6084\n",
      "         4.0       0.61      0.62      0.62      6103\n",
      "         5.0       0.75      0.77      0.76      6110\n",
      "\n",
      "    accuracy                           0.77     30629\n",
      "   macro avg       0.77      0.77      0.77     30629\n",
      "weighted avg       0.77      0.77      0.77     30629\n",
      "\n",
      "[[6089   73    0    0    0]\n",
      " [ 288 5029  776   66   11]\n",
      " [  29  797 4122 1012  124]\n",
      " [   0   36  822 3772 1473]\n",
      " [   0    5   76 1308 4721]]\n",
      "Accuracy Score: 0.774853896633909\n",
      "roc auc Score: 0.8590195573305668\n"
     ]
    }
   ],
   "source": [
    "from sklearn.ensemble import GradientBoostingClassifier\n",
    "gbc = GradientBoostingClassifier(n_estimators=200,\n",
    "                                      random_state=3)\n",
    "mod_build(gbc, X_train_over, X_test_over, y_train_over, y_test_over)"
   ]
  },
  {
   "cell_type": "markdown",
   "metadata": {},
   "source": [
    "#### Sentiment Analysis"
   ]
  },
  {
   "cell_type": "markdown",
   "metadata": {},
   "source": [
    "#### VADAR"
   ]
  },
  {
   "cell_type": "code",
   "execution_count": 43,
   "metadata": {},
   "outputs": [
    {
     "data": {
      "text/html": [
       "<div>\n",
       "<style scoped>\n",
       "    .dataframe tbody tr th:only-of-type {\n",
       "        vertical-align: middle;\n",
       "    }\n",
       "\n",
       "    .dataframe tbody tr th {\n",
       "        vertical-align: top;\n",
       "    }\n",
       "\n",
       "    .dataframe thead th {\n",
       "        text-align: right;\n",
       "    }\n",
       "</style>\n",
       "<table border=\"1\" class=\"dataframe\">\n",
       "  <thead>\n",
       "    <tr style=\"text-align: right;\">\n",
       "      <th></th>\n",
       "      <th>index</th>\n",
       "      <th>beer/ABV</th>\n",
       "      <th>beer/beerId</th>\n",
       "      <th>beer/brewerId</th>\n",
       "      <th>beer/name</th>\n",
       "      <th>beer/style</th>\n",
       "      <th>review/appearance</th>\n",
       "      <th>review/aroma</th>\n",
       "      <th>review/overall</th>\n",
       "      <th>review/palate</th>\n",
       "      <th>review/taste</th>\n",
       "      <th>review/text</th>\n",
       "      <th>review/timeStruct</th>\n",
       "      <th>review/timeUnix</th>\n",
       "      <th>user/ageInSeconds</th>\n",
       "      <th>user/birthdayRaw</th>\n",
       "      <th>user/birthdayUnix</th>\n",
       "      <th>user/gender</th>\n",
       "      <th>user/profileName</th>\n",
       "    </tr>\n",
       "  </thead>\n",
       "  <tbody>\n",
       "    <tr>\n",
       "      <th>0</th>\n",
       "      <td>40163</td>\n",
       "      <td>5.0</td>\n",
       "      <td>46634</td>\n",
       "      <td>14338</td>\n",
       "      <td>Chiostro</td>\n",
       "      <td>Herbed / Spiced Beer</td>\n",
       "      <td>4.0</td>\n",
       "      <td>4.0</td>\n",
       "      <td>4.0</td>\n",
       "      <td>4.0</td>\n",
       "      <td>4.0</td>\n",
       "      <td>Pours a clouded gold with a thin white head. N...</td>\n",
       "      <td>{'min': 38, 'hour': 3, 'mday': 16, 'sec': 10, ...</td>\n",
       "      <td>1229398690</td>\n",
       "      <td>NaN</td>\n",
       "      <td>NaN</td>\n",
       "      <td>NaN</td>\n",
       "      <td>NaN</td>\n",
       "      <td>RblWthACoz</td>\n",
       "    </tr>\n",
       "    <tr>\n",
       "      <th>1</th>\n",
       "      <td>8135</td>\n",
       "      <td>11.0</td>\n",
       "      <td>3003</td>\n",
       "      <td>395</td>\n",
       "      <td>Bearded Pat's Barleywine</td>\n",
       "      <td>American Barleywine</td>\n",
       "      <td>4.0</td>\n",
       "      <td>3.5</td>\n",
       "      <td>3.5</td>\n",
       "      <td>3.5</td>\n",
       "      <td>3.0</td>\n",
       "      <td>12oz bottle into 8oz snifter.\\t\\tDeep ruby red...</td>\n",
       "      <td>{'min': 38, 'hour': 23, 'mday': 8, 'sec': 58, ...</td>\n",
       "      <td>1218238738</td>\n",
       "      <td>NaN</td>\n",
       "      <td>NaN</td>\n",
       "      <td>NaN</td>\n",
       "      <td>NaN</td>\n",
       "      <td>BeerSox</td>\n",
       "    </tr>\n",
       "    <tr>\n",
       "      <th>2</th>\n",
       "      <td>10529</td>\n",
       "      <td>4.7</td>\n",
       "      <td>961</td>\n",
       "      <td>365</td>\n",
       "      <td>Naughty Nellie's Ale</td>\n",
       "      <td>American Pale Ale (APA)</td>\n",
       "      <td>3.5</td>\n",
       "      <td>4.0</td>\n",
       "      <td>3.5</td>\n",
       "      <td>3.5</td>\n",
       "      <td>3.5</td>\n",
       "      <td>First enjoyed at the brewpub about 2 years ago...</td>\n",
       "      <td>{'min': 7, 'hour': 18, 'mday': 26, 'sec': 2, '...</td>\n",
       "      <td>1101492422</td>\n",
       "      <td>NaN</td>\n",
       "      <td>NaN</td>\n",
       "      <td>NaN</td>\n",
       "      <td>Male</td>\n",
       "      <td>mschofield</td>\n",
       "    </tr>\n",
       "    <tr>\n",
       "      <th>3</th>\n",
       "      <td>44610</td>\n",
       "      <td>4.4</td>\n",
       "      <td>429</td>\n",
       "      <td>1</td>\n",
       "      <td>Pilsner Urquell</td>\n",
       "      <td>Czech Pilsener</td>\n",
       "      <td>3.0</td>\n",
       "      <td>3.0</td>\n",
       "      <td>2.5</td>\n",
       "      <td>3.0</td>\n",
       "      <td>3.0</td>\n",
       "      <td>First thing I noticed after pouring from green...</td>\n",
       "      <td>{'min': 7, 'hour': 1, 'mday': 20, 'sec': 5, 'y...</td>\n",
       "      <td>1308532025</td>\n",
       "      <td>1.209827e+09</td>\n",
       "      <td>Aug 10, 1976</td>\n",
       "      <td>208508400.0</td>\n",
       "      <td>Male</td>\n",
       "      <td>molegar76</td>\n",
       "    </tr>\n",
       "    <tr>\n",
       "      <th>4</th>\n",
       "      <td>37062</td>\n",
       "      <td>4.4</td>\n",
       "      <td>4904</td>\n",
       "      <td>1417</td>\n",
       "      <td>Black Sheep Ale (Special)</td>\n",
       "      <td>English Pale Ale</td>\n",
       "      <td>4.0</td>\n",
       "      <td>3.0</td>\n",
       "      <td>3.0</td>\n",
       "      <td>3.5</td>\n",
       "      <td>2.5</td>\n",
       "      <td>A: pours an amber with a one finger head but o...</td>\n",
       "      <td>{'min': 51, 'hour': 6, 'mday': 12, 'sec': 48, ...</td>\n",
       "      <td>1299912708</td>\n",
       "      <td>NaN</td>\n",
       "      <td>NaN</td>\n",
       "      <td>NaN</td>\n",
       "      <td>NaN</td>\n",
       "      <td>Brewbro000</td>\n",
       "    </tr>\n",
       "  </tbody>\n",
       "</table>\n",
       "</div>"
      ],
      "text/plain": [
       "   index  beer/ABV  beer/beerId  beer/brewerId                  beer/name  \\\n",
       "0  40163       5.0        46634          14338                   Chiostro   \n",
       "1   8135      11.0         3003            395   Bearded Pat's Barleywine   \n",
       "2  10529       4.7          961            365       Naughty Nellie's Ale   \n",
       "3  44610       4.4          429              1            Pilsner Urquell   \n",
       "4  37062       4.4         4904           1417  Black Sheep Ale (Special)   \n",
       "\n",
       "                beer/style  review/appearance  review/aroma  review/overall  \\\n",
       "0     Herbed / Spiced Beer                4.0           4.0             4.0   \n",
       "1      American Barleywine                4.0           3.5             3.5   \n",
       "2  American Pale Ale (APA)                3.5           4.0             3.5   \n",
       "3           Czech Pilsener                3.0           3.0             2.5   \n",
       "4         English Pale Ale                4.0           3.0             3.0   \n",
       "\n",
       "   review/palate  review/taste  \\\n",
       "0            4.0           4.0   \n",
       "1            3.5           3.0   \n",
       "2            3.5           3.5   \n",
       "3            3.0           3.0   \n",
       "4            3.5           2.5   \n",
       "\n",
       "                                         review/text  \\\n",
       "0  Pours a clouded gold with a thin white head. N...   \n",
       "1  12oz bottle into 8oz snifter.\\t\\tDeep ruby red...   \n",
       "2  First enjoyed at the brewpub about 2 years ago...   \n",
       "3  First thing I noticed after pouring from green...   \n",
       "4  A: pours an amber with a one finger head but o...   \n",
       "\n",
       "                                   review/timeStruct  review/timeUnix  \\\n",
       "0  {'min': 38, 'hour': 3, 'mday': 16, 'sec': 10, ...       1229398690   \n",
       "1  {'min': 38, 'hour': 23, 'mday': 8, 'sec': 58, ...       1218238738   \n",
       "2  {'min': 7, 'hour': 18, 'mday': 26, 'sec': 2, '...       1101492422   \n",
       "3  {'min': 7, 'hour': 1, 'mday': 20, 'sec': 5, 'y...       1308532025   \n",
       "4  {'min': 51, 'hour': 6, 'mday': 12, 'sec': 48, ...       1299912708   \n",
       "\n",
       "   user/ageInSeconds user/birthdayRaw  user/birthdayUnix user/gender  \\\n",
       "0                NaN              NaN                NaN         NaN   \n",
       "1                NaN              NaN                NaN         NaN   \n",
       "2                NaN              NaN                NaN        Male   \n",
       "3       1.209827e+09     Aug 10, 1976        208508400.0        Male   \n",
       "4                NaN              NaN                NaN         NaN   \n",
       "\n",
       "  user/profileName  \n",
       "0       RblWthACoz  \n",
       "1          BeerSox  \n",
       "2       mschofield  \n",
       "3        molegar76  \n",
       "4       Brewbro000  "
      ]
     },
     "execution_count": 43,
     "metadata": {},
     "output_type": "execute_result"
    }
   ],
   "source": [
    "import numpy as np\n",
    "import pandas as pd\n",
    "\n",
    "dff = pd.read_csv('train.csv')\n",
    "dff.head()"
   ]
  },
  {
   "cell_type": "code",
   "execution_count": 44,
   "metadata": {},
   "outputs": [],
   "source": [
    "dff.drop(['index','beer/beerId','beer/brewerId','beer/name',\n",
    "       'beer/style','review/timeStruct',\n",
    "       'review/timeUnix','user/ageInSeconds','user/birthdayUnix','user/profileName',\n",
    "         'user/birthdayRaw','user/gender'],1,inplace = True)"
   ]
  },
  {
   "cell_type": "code",
   "execution_count": 45,
   "metadata": {},
   "outputs": [],
   "source": [
    "from vaderSentiment.vaderSentiment import SentimentIntensityAnalyzer\n",
    "analyser = SentimentIntensityAnalyzer()"
   ]
  },
  {
   "cell_type": "code",
   "execution_count": 48,
   "metadata": {},
   "outputs": [],
   "source": [
    "dff.dropna(subset= ['review/text'],inplace = True)\n",
    "dff = dff[dff['review/overall'] != 0.0] "
   ]
  },
  {
   "cell_type": "code",
   "execution_count": 49,
   "metadata": {},
   "outputs": [],
   "source": [
    "dff['scores'] = dff['review/text'].apply(lambda review: analyser.polarity_scores(review))\n",
    "dff['compound']  = dff['scores'].apply(lambda score_dict: score_dict['compound'])\n",
    "dff['comp_score'] = dff['compound'].apply(lambda c: 2 if c >0.05 else 1 if c < -0.05 else 0)"
   ]
  },
  {
   "cell_type": "code",
   "execution_count": 50,
   "metadata": {},
   "outputs": [
    {
     "data": {
      "text/plain": [
       "2    34850\n",
       "1     2290\n",
       "0      349\n",
       "Name: comp_score, dtype: int64"
      ]
     },
     "execution_count": 50,
     "metadata": {},
     "output_type": "execute_result"
    }
   ],
   "source": [
    "dff.comp_score.value_counts()"
   ]
  },
  {
   "cell_type": "markdown",
   "metadata": {},
   "source": [
    "##### Actual Sentiment"
   ]
  },
  {
   "cell_type": "code",
   "execution_count": 58,
   "metadata": {},
   "outputs": [],
   "source": [
    "# actual values , extracted sentiment from overall ratings\n",
    "dff['review/overall'] = dff['review/overall'].apply(lambda x :np.ceil(x))\n",
    "dff['review/sentiment'] = dff['review/overall'].apply(lambda x: 2 if x > 3 else 1 if x < 3 else 0) # 2- pos , 1 -neg, 0-neu"
   ]
  },
  {
   "cell_type": "code",
   "execution_count": 60,
   "metadata": {},
   "outputs": [
    {
     "name": "stdout",
     "output_type": "stream",
     "text": [
      "0.826722505268212\n",
      "              precision    recall  f1-score   support\n",
      "\n",
      "           0       0.32      0.02      0.05      4512\n",
      "           1       0.19      0.35      0.24      1231\n",
      "           2       0.87      0.96      0.91     31746\n",
      "\n",
      "    accuracy                           0.83     37489\n",
      "   macro avg       0.46      0.44      0.40     37489\n",
      "weighted avg       0.78      0.83      0.79     37489\n",
      "\n",
      "[[  111   764  3637]\n",
      " [   40   430   761]\n",
      " [  198  1096 30452]]\n"
     ]
    }
   ],
   "source": [
    "from sklearn.metrics import accuracy_score, classification_report, confusion_matrix\n",
    "\n",
    "print(accuracy_score(dff['review/sentiment'],dff['comp_score']))\n",
    "print(classification_report(dff['review/sentiment'],dff['comp_score']))\n",
    "print(confusion_matrix(dff['review/sentiment'],dff['comp_score']))"
   ]
  },
  {
   "cell_type": "markdown",
   "metadata": {},
   "source": [
    "#### Text blob "
   ]
  },
  {
   "cell_type": "code",
   "execution_count": 59,
   "metadata": {},
   "outputs": [],
   "source": [
    "from textblob import TextBlob"
   ]
  },
  {
   "cell_type": "code",
   "execution_count": 55,
   "metadata": {},
   "outputs": [],
   "source": [
    "dff['polarity'] = dff['review/text'].apply(lambda comment: TextBlob(comment).sentiment.polarity)"
   ]
  },
  {
   "cell_type": "code",
   "execution_count": 56,
   "metadata": {},
   "outputs": [],
   "source": [
    "dff['pol_score'] = dff['polarity'].apply(lambda c: 2 if c > 0.05 else 1 if c < -0.05 else 0 )"
   ]
  },
  {
   "cell_type": "code",
   "execution_count": 61,
   "metadata": {},
   "outputs": [
    {
     "name": "stdout",
     "output_type": "stream",
     "text": [
      "0.8050361439355544\n",
      "              precision    recall  f1-score   support\n",
      "\n",
      "           0       0.24      0.18      0.21      4512\n",
      "           1       0.26      0.18      0.21      1231\n",
      "           2       0.88      0.92      0.90     31746\n",
      "\n",
      "    accuracy                           0.81     37489\n",
      "   macro avg       0.46      0.43      0.44     37489\n",
      "weighted avg       0.78      0.81      0.79     37489\n",
      "\n",
      "[[  828   275  3409]\n",
      " [  352   216   663]\n",
      " [ 2279   331 29136]]\n"
     ]
    }
   ],
   "source": [
    "from sklearn.metrics import accuracy_score, classification_report, confusion_matrix\n",
    "\n",
    "print(accuracy_score(dff['review/sentiment'],dff['pol_score']))\n",
    "print(classification_report(dff['review/sentiment'],dff['pol_score']))\n",
    "print(confusion_matrix(dff['review/sentiment'],dff['pol_score']))"
   ]
  },
  {
   "cell_type": "code",
   "execution_count": 62,
   "metadata": {},
   "outputs": [],
   "source": [
    "# We can see that VADAR is better at predicting negative reviews than TextBLob.\n",
    "# Recall values of negative sentiment is less in TextBlob when compared to VADAR\n",
    "# In a business predicting the negative reviews are more important than positive, so we choose VADAR"
   ]
  },
  {
   "cell_type": "markdown",
   "metadata": {},
   "source": [
    "####  Are there any words that strongly predict the overall rating of the beer ?"
   ]
  },
  {
   "cell_type": "code",
   "execution_count": 63,
   "metadata": {},
   "outputs": [],
   "source": [
    "text_en = ['Compatibility of systems of linear constraints over the set of'\n",
    "    'natural numbers. Criteria of compatibility of a system of linear '\n",
    "    'Diophantine equations, strict inequations, and nonstrict inequations '\n",
    "    'are considered. Upper bounds for components of a minimal set of '\n",
    "    'solutions and algorithms of construction of minimal generating sets '\n",
    "    'of solutions for all types of systems are given. These criteria and '\n",
    "    'the corresponding algorithms for constructing a minimal supporting '\n",
    "    'set of solutions can be used in solving all the considered types of '\n",
    "    'systems and systems of mixed types.']"
   ]
  },
  {
   "cell_type": "code",
   "execution_count": 65,
   "metadata": {},
   "outputs": [
    {
     "name": "stdout",
     "output_type": "stream",
     "text": [
      "['Compatibility', 'of', 'systems', 'of', 'linear', 'constraints', 'over', 'the', 'set', 'ofnatural', 'numbers', '.', 'Criteria', 'of', 'compatibility', 'of', 'a', 'system', 'of', 'linear', 'Diophantine', 'equations', ',', 'strict', 'inequations', ',', 'and', 'nonstrict', 'inequations', 'are', 'considered', '.', 'Upper', 'bounds', 'for', 'components', 'of', 'a', 'minimal', 'set', 'of', 'solutions', 'and', 'algorithms', 'of', 'construction', 'of', 'minimal', 'generating', 'sets', 'of', 'solutions', 'for', 'all', 'types', 'of', 'systems', 'are', 'given', '.', 'These', 'criteria', 'and', 'the', 'corresponding', 'algorithms', 'for', 'constructing', 'a', 'minimal', 'supporting', 'set', 'of', 'solutions', 'can', 'be', 'used', 'in', 'solving', 'all', 'the', 'considered', 'types', 'of', 'systems', 'and', 'systems', 'of', 'mixed', 'types', '.']\n",
      "['Compatibility', 'systems', 'linear', 'constraints', 'set', 'ofnatural', 'numbers', '.', 'Criteria', 'compatibility', 'system', 'linear', 'Diophantine', 'equations', ',', 'strict', 'inequations', ',', 'nonstrict', 'inequations', 'considered', '.', 'Upper', 'bounds', 'components', 'minimal', 'set', 'solutions', 'algorithms', 'construction', 'minimal', 'generating', 'sets', 'solutions', 'types', 'systems', 'given', '.', 'These', 'criteria', 'corresponding', 'algorithms', 'constructing', 'minimal', 'supporting', 'set', 'solutions', 'used', 'solving', 'considered', 'types', 'systems', 'systems', 'mixed', 'types', '.']\n"
     ]
    }
   ],
   "source": [
    "from nltk.corpus import stopwords \n",
    "from nltk.tokenize import word_tokenize \n",
    "\n",
    "\n",
    "stop_words = set(stopwords.words('english')) \n",
    "\n",
    "word_tokens = word_tokenize(text_en[0]) \n",
    "\n",
    "filtered_sentence = [w for w in word_tokens if not w in stop_words] \n",
    "\n",
    "filtered_sentence = [] \n",
    "\n",
    "for w in word_tokens: \n",
    "    if w not in stop_words: \n",
    "        filtered_sentence.append(w) \n",
    "\n",
    "print(word_tokens) \n",
    "print(filtered_sentence) \n"
   ]
  },
  {
   "cell_type": "code",
   "execution_count": 68,
   "metadata": {},
   "outputs": [
    {
     "name": "stdout",
     "output_type": "stream",
     "text": [
      "['algorithms', 'bounds', 'compatibility', 'components', 'considered', 'constraints', 'constructing', 'construction', 'corresponding', 'criteria', 'diophantine', 'equations', 'generating', 'given', 'inequations', 'linear', 'minimal', 'mixed', 'nonstrict', 'numbers', 'ofnatural', 'set', 'sets', 'solutions', 'solving', 'strict', 'supporting', 'system', 'systems', 'these', 'types', 'upper', 'used']\n"
     ]
    }
   ],
   "source": [
    "from sklearn.feature_extraction.text import TfidfVectorizer\n",
    "\n",
    "filtered_sentence = [' '.join(filtered_sentence)]\n",
    "vectorizer = TfidfVectorizer()\n",
    "X = vectorizer.fit_transform(filtered_sentence)\n",
    "print(vectorizer.get_feature_names())"
   ]
  },
  {
   "cell_type": "code",
   "execution_count": 69,
   "metadata": {},
   "outputs": [
    {
     "data": {
      "text/plain": [
       "Index(['index', 'beer/ABV', 'review/appearance', 'review/aroma',\n",
       "       'review/overall', 'review/palate', 'review/taste', 'review_year',\n",
       "       'review_month', 'review_day', 'review/sentiment'],\n",
       "      dtype='object')"
      ]
     },
     "execution_count": 69,
     "metadata": {},
     "output_type": "execute_result"
    }
   ],
   "source": [
    "df.columns"
   ]
  },
  {
   "cell_type": "code",
   "execution_count": 71,
   "metadata": {},
   "outputs": [
    {
     "data": {
      "text/html": [
       "<div>\n",
       "<style scoped>\n",
       "    .dataframe tbody tr th:only-of-type {\n",
       "        vertical-align: middle;\n",
       "    }\n",
       "\n",
       "    .dataframe tbody tr th {\n",
       "        vertical-align: top;\n",
       "    }\n",
       "\n",
       "    .dataframe thead th {\n",
       "        text-align: right;\n",
       "    }\n",
       "</style>\n",
       "<table border=\"1\" class=\"dataframe\">\n",
       "  <thead>\n",
       "    <tr style=\"text-align: right;\">\n",
       "      <th></th>\n",
       "      <th>review/text</th>\n",
       "      <th>review/overall</th>\n",
       "      <th>review/sentiment</th>\n",
       "    </tr>\n",
       "  </thead>\n",
       "  <tbody>\n",
       "    <tr>\n",
       "      <th>0</th>\n",
       "      <td>Pours a clouded gold with a thin white head. N...</td>\n",
       "      <td>4.0</td>\n",
       "      <td>2</td>\n",
       "    </tr>\n",
       "    <tr>\n",
       "      <th>1</th>\n",
       "      <td>12oz bottle into 8oz snifter.\\t\\tDeep ruby red...</td>\n",
       "      <td>4.0</td>\n",
       "      <td>2</td>\n",
       "    </tr>\n",
       "    <tr>\n",
       "      <th>2</th>\n",
       "      <td>First enjoyed at the brewpub about 2 years ago...</td>\n",
       "      <td>4.0</td>\n",
       "      <td>2</td>\n",
       "    </tr>\n",
       "    <tr>\n",
       "      <th>3</th>\n",
       "      <td>First thing I noticed after pouring from green...</td>\n",
       "      <td>3.0</td>\n",
       "      <td>0</td>\n",
       "    </tr>\n",
       "    <tr>\n",
       "      <th>4</th>\n",
       "      <td>A: pours an amber with a one finger head but o...</td>\n",
       "      <td>3.0</td>\n",
       "      <td>0</td>\n",
       "    </tr>\n",
       "  </tbody>\n",
       "</table>\n",
       "</div>"
      ],
      "text/plain": [
       "                                         review/text  review/overall  \\\n",
       "0  Pours a clouded gold with a thin white head. N...             4.0   \n",
       "1  12oz bottle into 8oz snifter.\\t\\tDeep ruby red...             4.0   \n",
       "2  First enjoyed at the brewpub about 2 years ago...             4.0   \n",
       "3  First thing I noticed after pouring from green...             3.0   \n",
       "4  A: pours an amber with a one finger head but o...             3.0   \n",
       "\n",
       "   review/sentiment  \n",
       "0                 2  \n",
       "1                 2  \n",
       "2                 2  \n",
       "3                 0  \n",
       "4                 0  "
      ]
     },
     "execution_count": 71,
     "metadata": {},
     "output_type": "execute_result"
    }
   ],
   "source": [
    "review = dff[['review/text','review/overall', 'review/sentiment']]\n",
    "review.head()"
   ]
  },
  {
   "cell_type": "markdown",
   "metadata": {},
   "source": [
    "##### Preprocessing"
   ]
  },
  {
   "cell_type": "code",
   "execution_count": 72,
   "metadata": {},
   "outputs": [],
   "source": [
    "import string\n",
    "from nltk.tokenize import word_tokenize\n",
    "from nltk.stem import PorterStemmer\n",
    "from nltk.stem import WordNetLemmatizer\n",
    "import re\n",
    "def preprocess(text):\n",
    "    stemmer= PorterStemmer()\n",
    "    stop_words = set(stopwords.words('english'))\n",
    "    lemmatizer=WordNetLemmatizer()\n",
    "    punc = '''!()-[]{};:'\"\\, <>./?@#$%^&*_~'''\n",
    "    \n",
    "    text = text.lower() \n",
    "    text = re.sub(r'\\d+', '', text)    \n",
    "    text =  [text.replace(ele, \"\") for ele in text if ele in punc]\n",
    "    text = ' '.join(text)\n",
    "    text = text.strip()\n",
    "    li = word_tokenize(text)\n",
    "    li = [i for i in li if not i in stop_words]\n",
    "    li  =  [stemmer.stem(word) for word in li]\n",
    "    li = [lemmatizer.lemmatize(word) for word in li]\n",
    "    return ' '.join(li)"
   ]
  },
  {
   "cell_type": "code",
   "execution_count": 73,
   "metadata": {},
   "outputs": [
    {
     "data": {
      "text/plain": [
       "Index(['review/text', 'review/overall', 'review/sentiment'], dtype='object')"
      ]
     },
     "execution_count": 73,
     "metadata": {},
     "output_type": "execute_result"
    }
   ],
   "source": [
    "review.columns"
   ]
  },
  {
   "cell_type": "code",
   "execution_count": 74,
   "metadata": {},
   "outputs": [],
   "source": [
    "# review['text'] = review['review/text'].apply(lambda x: preprocess(x))"
   ]
  },
  {
   "cell_type": "code",
   "execution_count": null,
   "metadata": {},
   "outputs": [],
   "source": [
    "# The top words that predicts the rating of the beer can be found by using TFIDF vectorizer after preprocessing the text data."
   ]
  }
 ],
 "metadata": {
  "kernelspec": {
   "display_name": "Python 3",
   "language": "python",
   "name": "python3"
  },
  "language_info": {
   "codemirror_mode": {
    "name": "ipython",
    "version": 3
   },
   "file_extension": ".py",
   "mimetype": "text/x-python",
   "name": "python",
   "nbconvert_exporter": "python",
   "pygments_lexer": "ipython3",
   "version": "3.7.7"
  }
 },
 "nbformat": 4,
 "nbformat_minor": 4
}
